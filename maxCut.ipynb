{
 "cells": [
  {
   "cell_type": "markdown",
   "metadata": {},
   "source": [
    "## ライブラリ導入"
   ]
  },
  {
   "cell_type": "code",
   "execution_count": null,
   "metadata": {},
   "outputs": [],
   "source": [
    "from qiskit import *\n",
    "from qiskit.quantum_info import Operator, Statevector\n",
    "from qiskit.visualization import *\n",
    "from qiskit_aer import Aer\n",
    "import numpy as np\n",
    "import matplotlib.pyplot as plt\n",
    "import networkx as nx\n",
    "from scipy.optimize import minimize\n",
    "import commonLogic\n",
    "\n",
    "%matplotlib inline"
   ]
  },
  {
   "cell_type": "markdown",
   "metadata": {},
   "source": [
    "## パラメータ設定"
   ]
  },
  {
   "cell_type": "code",
   "execution_count": null,
   "metadata": {},
   "outputs": [],
   "source": [
    "# ノード数\n",
    "num = 5\n",
    "# エッジ構造\n",
    "edges = [(0,1),(0,2),(1,2),(1,3),(2,4),(3,4)]\n",
    "# 重み\n",
    "weights = [1,1,1,1,1,1]\n",
    "# トロッター分解数\n",
    "p=2\n",
    "\n",
    "# (γ,β)初期値\n",
    "args_init = np.array([0.1,0.1,0.2,0.3])"
   ]
  },
  {
   "cell_type": "code",
   "execution_count": null,
   "metadata": {},
   "outputs": [],
   "source": [
    "# コストハミルトニアン\n",
    "def get_operator_costHamiltonian(num):\n",
    "    Z = commonLogic.get_Z_list(num)\n",
    "    dim = 2**num\n",
    "    matrix = np.zeros((dim,dim))\n",
    "    for k in range(len(edges)):\n",
    "        i,j = edges[k]\n",
    "        w = weights[k]\n",
    "        matrix+=w*(np.ones((dim,dim)) - (Z[i]*Z[j]))\n",
    "    matrix*=-1/2\n",
    "    return Operator(matrix)"
   ]
  },
  {
   "cell_type": "code",
   "execution_count": null,
   "metadata": {},
   "outputs": [],
   "source": [
    "# コストハミルトニアンの回路\n",
    "def get_operator_cost(gamma):\n",
    "    qc_cost = QuantumCircuit(num)\n",
    "\n",
    "    for k in range(len(edges)):\n",
    "        i,j = edges[k]\n",
    "        w = weights[k]\n",
    "        qc_cost.cx(i, j)\n",
    "        qc_cost.rz(-2*gamma*w, j)\n",
    "        qc_cost.cx(i, j)\n",
    "\n",
    "    operator_cost = Operator(qc_cost)\n",
    "    return operator_cost"
   ]
  },
  {
   "cell_type": "code",
   "execution_count": null,
   "metadata": {},
   "outputs": [],
   "source": [
    "# ミキサーハミルトニアンの回路\n",
    "def get_operator_mixer(beta):\n",
    "    qc_mixer = QuantumCircuit(num)\n",
    "\n",
    "    for i in range(num):\n",
    "        qc_mixer.rx(-2*beta, i)\n",
    "\n",
    "    operator_mixer = Operator(qc_mixer)\n",
    "    return operator_mixer"
   ]
  },
  {
   "cell_type": "markdown",
   "metadata": {},
   "source": [
    "## グラフ描画"
   ]
  },
  {
   "cell_type": "code",
   "execution_count": null,
   "metadata": {},
   "outputs": [],
   "source": [
    "G = nx.Graph()\n",
    "G.add_edges_from(edges)\n",
    "pos = nx.spring_layout(G)\n",
    "colors = ['aquamarine' for i in range(num)]\n",
    "nx.draw(G, pos, with_labels=True, node_color=colors)\n",
    "plt.show()"
   ]
  },
  {
   "cell_type": "markdown",
   "metadata": {},
   "source": [
    "## 実装"
   ]
  },
  {
   "cell_type": "code",
   "execution_count": null,
   "metadata": {},
   "outputs": [],
   "source": [
    "def get_mainCircuit(num,args):\n",
    "    qc_main = QuantumCircuit(num,num)\n",
    "    qc_main.h(range(num))\n",
    "    for i in range(p):\n",
    "        qc_main.append(get_operator_cost(args[i*2]),range(num))\n",
    "        qc_main.append(get_operator_mixer(args[i*2+1]),range(num))\n",
    "    qc_main.measure(range(num),range(num))\n",
    "    return qc_main\n",
    "\n",
    "def get_expectation_value(args):\n",
    "    qc = get_mainCircuit(num,args)\n",
    "    backend = Aer.get_backend(\"statevector_simulator\")\n",
    "    qc_transpiled = transpile(qc,backend)\n",
    "    result = backend.run(qc).result()\n",
    "    statevector = result.get_statevector()\n",
    "    expectation_value = statevector.expectation_value(get_operator_costHamiltonian(num)).real\n",
    "    return expectation_value"
   ]
  },
  {
   "cell_type": "code",
   "execution_count": null,
   "metadata": {},
   "outputs": [],
   "source": [
    "optimizationResult = minimize(get_expectation_value, args_init, options={'maxiter':500}, method='powell')\n",
    "print(optimizationResult.fun)\n",
    "print(optimizationResult.x)"
   ]
  },
  {
   "cell_type": "code",
   "execution_count": null,
   "metadata": {},
   "outputs": [],
   "source": [
    "gamma_optimized = optimizationResult.x[0]\n",
    "beta_optimized = optimizationResult.x[1]\n",
    "\n",
    "qc = get_mainCircuit(num,gamma_optimized,beta_optimized)\n",
    "backend = Aer.get_backend(\"qasm_simulator\")\n",
    "qc_transpiled = transpile(qc,backend)\n",
    "result = backend.run(qc).result()\n",
    "counts=result.get_counts()\n",
    "counts = dict(sorted(counts.items()))\n",
    "\n",
    "commonLogic.my_plot_histogram(counts,gradation=True)"
   ]
  },
  {
   "cell_type": "markdown",
   "metadata": {},
   "source": [
    "## 分割後のグラフ"
   ]
  },
  {
   "cell_type": "code",
   "execution_count": null,
   "metadata": {},
   "outputs": [],
   "source": [
    "max_key = max(counts, key=counts.get)\n",
    "colors = []\n",
    "for i in reversed(max_key):\n",
    "    if i=='0': colors.append('aquamarine')\n",
    "    else: colors.append('red')\n",
    "nx.draw(G, pos, with_labels=True, node_color=colors)\n",
    "plt.show()"
   ]
  }
 ],
 "metadata": {
  "kernelspec": {
   "display_name": "Python 3",
   "language": "python",
   "name": "python3"
  },
  "language_info": {
   "codemirror_mode": {
    "name": "ipython",
    "version": 3
   },
   "file_extension": ".py",
   "mimetype": "text/x-python",
   "name": "python",
   "nbconvert_exporter": "python",
   "pygments_lexer": "ipython3",
   "version": "3.11.6"
  }
 },
 "nbformat": 4,
 "nbformat_minor": 2
}
