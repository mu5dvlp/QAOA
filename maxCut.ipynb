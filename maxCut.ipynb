{
 "cells": [
  {
   "cell_type": "markdown",
   "metadata": {},
   "source": [
    "## ライブラリ導入"
   ]
  },
  {
   "cell_type": "code",
   "execution_count": null,
   "metadata": {},
   "outputs": [],
   "source": [
    "from qiskit import *\n",
    "from qiskit.quantum_info import Operator, Statevector\n",
    "from qiskit.visualization import *\n",
    "from qiskit_aer import Aer\n",
    "import numpy as np\n",
    "import matplotlib.pyplot as plt\n",
    "import networkx as nx\n",
    "from scipy.optimize import minimize\n",
    "import commonLogic\n",
    "\n",
    "%matplotlib inline"
   ]
  },
  {
   "cell_type": "markdown",
   "metadata": {},
   "source": [
    "## パラメータ設定"
   ]
  },
  {
   "cell_type": "code",
   "execution_count": null,
   "metadata": {},
   "outputs": [],
   "source": [
    "# ノード数\n",
    "num = 5\n",
    "# エッジ構造\n",
    "edges = [(0,1),(0,2),(1,2),(1,3),(2,4),(3,4)]\n",
    "\n",
    "gamma = 0.1\n",
    "beta = 0.1"
   ]
  },
  {
   "cell_type": "code",
   "execution_count": null,
   "metadata": {},
   "outputs": [],
   "source": [
    "# コストハミルトニアン\n",
    "def get_operator_cost(gamma):\n",
    "    qc_cost = QuantumCircuit(num)\n",
    "\n",
    "    for i,j in edges:\n",
    "        qc_cost.cx(i, j)\n",
    "        qc_cost.rz(-2*gamma, j)\n",
    "        qc_cost.cx(i, j)\n",
    "\n",
    "    operator_cost = Operator(qc_cost)\n",
    "    return operator_cost"
   ]
  },
  {
   "cell_type": "code",
   "execution_count": null,
   "metadata": {},
   "outputs": [],
   "source": [
    "# ミキサーハミルトニアン\n",
    "def get_operator_mixer(beta):\n",
    "    qc_mixer = QuantumCircuit(num)\n",
    "\n",
    "    for i,j in edges:\n",
    "        qc_mixer.rx(-2*beta, i)\n",
    "\n",
    "    operator_mixer = Operator(qc_mixer)\n",
    "    return operator_mixer"
   ]
  },
  {
   "cell_type": "markdown",
   "metadata": {},
   "source": [
    "## グラフ描画"
   ]
  },
  {
   "cell_type": "code",
   "execution_count": null,
   "metadata": {},
   "outputs": [],
   "source": [
    "G = nx.Graph()\n",
    "G.add_edges_from(edges)\n",
    "pos = nx.spring_layout(G)\n",
    "nx.draw(G, pos, with_labels=True)\n",
    "plt.show()"
   ]
  },
  {
   "cell_type": "markdown",
   "metadata": {},
   "source": [
    "## 実装"
   ]
  },
  {
   "cell_type": "code",
   "execution_count": null,
   "metadata": {},
   "outputs": [],
   "source": [
    "def get_mainCircuit(num,gamma,beta):\n",
    "    qc_main = QuantumCircuit(num,num)\n",
    "    qc_main.h(range(num))\n",
    "    qc_main.append(get_operator_cost(gamma),range(num))\n",
    "    qc_main.append(get_operator_mixer(beta),range(num))\n",
    "    qc_main.measure(range(num),range(num))\n",
    "    return qc_main\n",
    "\n",
    "def get_expectation_value(args):\n",
    "    gamma,beta = args\n",
    "\n",
    "    qc = get_mainCircuit(num,gamma,beta)\n",
    "    operator_cost = get_operator_cost(gamma)\n",
    "\n",
    "    backend = Aer.get_backend(\"statevector_simulator\")\n",
    "    qc_transpiled = transpile(qc,backend)\n",
    "    result = backend.run(qc).result()\n",
    "    statevector = result.get_statevector()\n",
    "    expectation_value = statevector.expectation_value(operator_cost).real\n",
    "    return expectation_value"
   ]
  },
  {
   "cell_type": "code",
   "execution_count": null,
   "metadata": {},
   "outputs": [],
   "source": [
    "values_init = np.array([gamma, beta])\n",
    "optimizationResult = minimize(get_expectation_value, values_init, options={'maxiter':500}, method='powell')\n",
    "print(optimizationResult.fun)\n",
    "print(optimizationResult.x)"
   ]
  },
  {
   "cell_type": "code",
   "execution_count": null,
   "metadata": {},
   "outputs": [],
   "source": [
    "gamma_optimized = optimizationResult.x[0]\n",
    "beta_optimized = optimizationResult.x[1]\n",
    "\n",
    "qc = get_mainCircuit(num,gamma_optimized,beta_optimized)\n",
    "backend = Aer.get_backend(\"qasm_simulator\")\n",
    "qc_transpiled = transpile(qc,backend)\n",
    "result = backend.run(qc).result()\n",
    "counts=result.get_counts()\n",
    "\n",
    "commonLogic.my_plot_histogram(counts,gradation=True)"
   ]
  }
 ],
 "metadata": {
  "kernelspec": {
   "display_name": "Python 3",
   "language": "python",
   "name": "python3"
  },
  "language_info": {
   "codemirror_mode": {
    "name": "ipython",
    "version": 3
   },
   "file_extension": ".py",
   "mimetype": "text/x-python",
   "name": "python",
   "nbconvert_exporter": "python",
   "pygments_lexer": "ipython3",
   "version": "3.11.6"
  }
 },
 "nbformat": 4,
 "nbformat_minor": 2
}
