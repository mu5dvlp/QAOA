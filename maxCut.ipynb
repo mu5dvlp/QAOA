{
 "cells": [
  {
   "cell_type": "markdown",
   "metadata": {},
   "source": [
    "## ライブラリ導入"
   ]
  },
  {
   "cell_type": "code",
   "execution_count": null,
   "metadata": {},
   "outputs": [],
   "source": [
    "from qiskit import *\n",
    "from qiskit_aer import Aer\n",
    "import numpy as np\n",
    "import matplotlib.pyplot as plt\n",
    "import networkx as nx\n",
    "from scipy.optimize import minimize\n",
    "\n",
    "from commonLogic import *\n",
    "from maxCut_common import *\n",
    "\n",
    "%matplotlib inline"
   ]
  },
  {
   "cell_type": "markdown",
   "metadata": {},
   "source": [
    "## パラメータ設定"
   ]
  },
  {
   "cell_type": "code",
   "execution_count": null,
   "metadata": {},
   "outputs": [],
   "source": [
    "# ノード数\n",
    "num = 5\n",
    "# エッジ構造\n",
    "edges = [(0,1),(0,2),(1,2),(1,3),(2,4),(3,4)]\n",
    "# 重み\n",
    "weights = [1,1,1,1,1,1]\n",
    "\n",
    "# (γ,β)初期値\n",
    "args_init = np.array([0.1,0.1,\n",
    "                      0.1,0.1,\n",
    "                      0.1,0.1])"
   ]
  },
  {
   "cell_type": "markdown",
   "metadata": {},
   "source": [
    "## グラフ描画"
   ]
  },
  {
   "cell_type": "code",
   "execution_count": null,
   "metadata": {},
   "outputs": [],
   "source": [
    "G = nx.Graph()\n",
    "G.add_edges_from(edges)\n",
    "pos = nx.spring_layout(G)\n",
    "colors = ['aquamarine' for i in range(num)]\n",
    "nx.draw(G, pos, with_labels=True, node_color=colors)\n",
    "\n",
    "edge_labels = {}\n",
    "for i in range(len(edges)):\n",
    "    edge_labels[edges[i]] = weights[i]\n",
    "nx.draw_networkx_edge_labels(G, pos, edge_labels=edge_labels)\n",
    "\n",
    "plt.show()"
   ]
  },
  {
   "cell_type": "markdown",
   "metadata": {},
   "source": [
    "## 実装"
   ]
  },
  {
   "cell_type": "code",
   "execution_count": null,
   "metadata": {},
   "outputs": [],
   "source": [
    "# コストハミルトニアン\n",
    "operator_costHamiltonian = get_operator_costHamiltonian(num,edges,weights)\n",
    "\n",
    "# 期待値の計算\n",
    "def get_expectation_value(args):\n",
    "    qc = get_mainCircuit(num,edges,weights,args)\n",
    "    backend = Aer.get_backend(\"statevector_simulator\")\n",
    "    qc_transpiled = transpile(qc,backend)\n",
    "    result = backend.run(qc_transpiled).result()\n",
    "    statevector = result.get_statevector()\n",
    "    expectation_value = statevector.expectation_value(operator_costHamiltonian).real\n",
    "    return expectation_value"
   ]
  },
  {
   "cell_type": "code",
   "execution_count": null,
   "metadata": {},
   "outputs": [],
   "source": [
    "# 古典最適化アルゴリズムで(γ,β)を最適化\n",
    "optimizationResult = minimize(get_expectation_value, args_init, options={'maxiter':500}, method='powell')\n",
    "\n",
    "print(f\"{optimizationResult.fun:.2f}\")\n",
    "args_optimized = optimizationResult.x\n",
    "print([float(i) for i in args_optimized])"
   ]
  },
  {
   "cell_type": "code",
   "execution_count": null,
   "metadata": {},
   "outputs": [],
   "source": [
    "# 回路作成\n",
    "qc = get_mainCircuit(num,edges,weights,args_optimized)\n",
    "qc.measure(range(num),range(num))\n",
    "qc.draw('mpl')"
   ]
  },
  {
   "cell_type": "code",
   "execution_count": null,
   "metadata": {},
   "outputs": [],
   "source": [
    "# 最適値のシミュレーション実行\n",
    "backend = Aer.get_backend(\"qasm_simulator\")\n",
    "qc_transpiled = transpile(qc,backend)\n",
    "result = backend.run(qc_transpiled).result()\n",
    "\n",
    "counts=result.get_counts()\n",
    "for i in range(2**num):\n",
    "    binary_string = format(i, f'0{num}b')\n",
    "    if binary_string not in counts:\n",
    "        counts[binary_string]=0\n",
    "counts = dict(sorted(counts.items()))\n",
    "\n",
    "my_plot_histogram(counts,gradation=True)"
   ]
  },
  {
   "cell_type": "markdown",
   "metadata": {},
   "source": [
    "## 分割後のグラフ"
   ]
  },
  {
   "cell_type": "code",
   "execution_count": null,
   "metadata": {},
   "outputs": [],
   "source": [
    "max_key = max(counts, key=counts.get)\n",
    "\n",
    "node_colors = []\n",
    "for i in max_key:\n",
    "    if i=='0': node_colors.append('aquamarine')\n",
    "    else: node_colors.append('orange')\n",
    "\n",
    "edge_colors = []\n",
    "for u, v in G.edges():\n",
    "    if node_colors[u] != node_colors[v]: edge_colors.append('red')\n",
    "    else: edge_colors.append('black')\n",
    "\n",
    "nx.draw(G, pos, with_labels=True, node_color=node_colors, edge_color=edge_colors)\n",
    "\n",
    "edge_labels = {}\n",
    "for i in range(len(edges)):\n",
    "    edge_labels[edges[i]] = weights[i]\n",
    "nx.draw_networkx_edge_labels(G, pos, edge_labels=edge_labels)\n",
    "\n",
    "plt.show()"
   ]
  }
 ],
 "metadata": {
  "kernelspec": {
   "display_name": "Python 3",
   "language": "python",
   "name": "python3"
  },
  "language_info": {
   "codemirror_mode": {
    "name": "ipython",
    "version": 3
   },
   "file_extension": ".py",
   "mimetype": "text/x-python",
   "name": "python",
   "nbconvert_exporter": "python",
   "pygments_lexer": "ipython3",
   "version": "3.11.6"
  }
 },
 "nbformat": 4,
 "nbformat_minor": 2
}
