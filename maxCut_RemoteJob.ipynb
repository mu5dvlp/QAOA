{
 "cells": [
  {
   "cell_type": "markdown",
   "metadata": {},
   "source": [
    "## ライブラリ導入"
   ]
  },
  {
   "cell_type": "code",
   "execution_count": null,
   "metadata": {},
   "outputs": [],
   "source": [
    "from qiskit import *\n",
    "from qiskit_ibm_runtime import QiskitRuntimeService, SamplerV2 as Sampler\n",
    "import numpy as np\n",
    "import matplotlib.pyplot as plt\n",
    "import networkx as nx\n",
    "\n",
    "from commonLogic import *\n",
    "from maxCut_common import *\n",
    "\n",
    "%matplotlib inline"
   ]
  },
  {
   "cell_type": "markdown",
   "metadata": {},
   "source": [
    "## IBM Quantum Platform設定"
   ]
  },
  {
   "cell_type": "code",
   "execution_count": null,
   "metadata": {},
   "outputs": [],
   "source": [
    "# チャンネル (ibm_cloud/ibm_quantum)\n",
    "channel = \"ibm_quantum\"\n",
    "\n",
    "# バックエンド\n",
    "backend_name = \"ibm_osaka\"\n",
    "\n",
    "# APIトークン\n",
    "token=\"\""
   ]
  },
  {
   "cell_type": "markdown",
   "metadata": {},
   "source": [
    "## パラメータ設定"
   ]
  },
  {
   "cell_type": "code",
   "execution_count": null,
   "metadata": {},
   "outputs": [],
   "source": [
    "# ノード数\n",
    "num = 5\n",
    "# エッジ構造\n",
    "edges = [(0,1),(0,2),(1,2),(1,3),(2,4),(3,4)]\n",
    "# 重み\n",
    "weights = [1,1,1,1,1,1]\n",
    "\n",
    "# (γ,β)最適値\n",
    "args = np.array()"
   ]
  },
  {
   "cell_type": "markdown",
   "metadata": {},
   "source": [
    "# グラフ描画"
   ]
  },
  {
   "cell_type": "code",
   "execution_count": null,
   "metadata": {},
   "outputs": [],
   "source": [
    "G = nx.Graph()\n",
    "G.add_edges_from(edges)\n",
    "pos = nx.spring_layout(G)\n",
    "colors = ['aquamarine' for i in range(num)]\n",
    "nx.draw(G, pos, with_labels=True, node_color=colors)\n",
    "plt.show()"
   ]
  },
  {
   "cell_type": "markdown",
   "metadata": {},
   "source": [
    "## 実装"
   ]
  },
  {
   "cell_type": "code",
   "execution_count": null,
   "metadata": {},
   "outputs": [],
   "source": [
    "# IBMのサービスにアクセス\n",
    "service = QiskitRuntimeService(channel=channel, token=token)\n",
    "backend = service.backend(backend_name)"
   ]
  },
  {
   "cell_type": "code",
   "execution_count": null,
   "metadata": {},
   "outputs": [],
   "source": [
    "# 回路作成\n",
    "qc = get_mainCircuit(num,edges,weights,args)\n",
    "qc.measure(range(num),range(num))\n",
    "qc_transpiled = transpile(qc,backend)"
   ]
  },
  {
   "cell_type": "code",
   "execution_count": null,
   "metadata": {},
   "outputs": [],
   "source": [
    "# 実機実行\n",
    "sampler = Sampler(backend)\n",
    "result = sampler.run([qc_transpiled]).result()\n",
    "pub_result = result[0]\n",
    "\n",
    "counts = pub_result.data.c.get_counts()\n",
    "for i in range(2**num):\n",
    "    binary_string = format(i, f'0{num}b')\n",
    "    if binary_string not in counts:\n",
    "        counts[binary_string]=0\n",
    "counts = dict(sorted(counts.items()))\n",
    "\n",
    "my_plot_histogram(counts,gradation=True)"
   ]
  },
  {
   "cell_type": "markdown",
   "metadata": {},
   "source": [
    "## 分割後のグラフ"
   ]
  },
  {
   "cell_type": "code",
   "execution_count": null,
   "metadata": {},
   "outputs": [],
   "source": [
    "max_key = max(counts, key=counts.get)\n",
    "\n",
    "node_colors = []\n",
    "for i in max_key:\n",
    "    if i=='0': node_colors.append('aquamarine')\n",
    "    else: node_colors.append('orange')\n",
    "\n",
    "edge_colors = []\n",
    "for u, v in G.edges():\n",
    "    if node_colors[u] != node_colors[v]: edge_colors.append('red')\n",
    "    else: edge_colors.append('black')\n",
    "\n",
    "nx.draw(G, pos, with_labels=True, node_color=node_colors, edge_color=edge_colors)\n",
    "plt.show()"
   ]
  }
 ],
 "metadata": {
  "kernelspec": {
   "display_name": "Python 3",
   "language": "python",
   "name": "python3"
  },
  "language_info": {
   "codemirror_mode": {
    "name": "ipython",
    "version": 3
   },
   "file_extension": ".py",
   "mimetype": "text/x-python",
   "name": "python",
   "nbconvert_exporter": "python",
   "pygments_lexer": "ipython3",
   "version": "3.11.6"
  }
 },
 "nbformat": 4,
 "nbformat_minor": 2
}
